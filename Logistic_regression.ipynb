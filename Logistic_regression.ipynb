{
  "nbformat": 4,
  "nbformat_minor": 0,
  "metadata": {
    "colab": {
      "name": "Logistic_regression.ipynb",
      "version": "0.3.2",
      "provenance": [],
      "collapsed_sections": [],
      "include_colab_link": true
    }
  },
  "cells": [
    {
      "cell_type": "markdown",
      "metadata": {
        "id": "view-in-github",
        "colab_type": "text"
      },
      "source": [
        "[View in Colaboratory](https://colab.research.google.com/github/fearless23/google_ml_crash_course_notebooks/blob/master/Logistic_regression.ipynb)"
      ]
    },
    {
      "metadata": {
        "id": "g4T-_IsVbweU",
        "colab_type": "text"
      },
      "cell_type": "markdown",
      "source": [
        "# Logistic Regression"
      ]
    },
    {
      "metadata": {
        "id": "LEAHZv4rIYHX",
        "colab_type": "text"
      },
      "cell_type": "markdown",
      "source": [
        "**Learning Objectives:**\n",
        "  * Reframe the median house value predictor (from the preceding exercises) as a binary classification model\n",
        "  * Compare the effectiveness of logisitic regression vs linear regression for a binary classification problem"
      ]
    },
    {
      "metadata": {
        "id": "CnkCZqdIIYHY",
        "colab_type": "text"
      },
      "cell_type": "markdown",
      "source": [
        "As in the prior exercises, we're working with the [California housing data set](https://developers.google.com/machine-learning/crash-course/california-housing-data-description), but this time we will turn it into a binary classification problem by predicting whether a city block is a high-cost city block. We'll also revert to the default features, for now."
      ]
    },
    {
      "metadata": {
        "id": "9pltCyy2K3dd",
        "colab_type": "text"
      },
      "cell_type": "markdown",
      "source": [
        "## Frame the Problem as Binary Classification\n",
        "\n",
        "The target of our dataset is `median_house_value` which is a numeric (continuous-valued) feature. We can create a boolean label by applying a threshold to this continuous value.\n",
        "\n",
        "Given features describing a city block, we wish to predict if it is a high-cost city block. To prepare the targets for train and eval data, we define a classification threshold of the 75%-ile for median house value (a value of approximately 265000). All house values above the threshold are labeled `1`, and all others are labeled `0`."
      ]
    },
    {
      "metadata": {
        "id": "67IJwZX1Vvjt",
        "colab_type": "text"
      },
      "cell_type": "markdown",
      "source": [
        "## Setup\n",
        "\n",
        "Run the cells below to load the data and prepare the input features and targets."
      ]
    },
    {
      "metadata": {
        "id": "fOlbcJ4EIYHd",
        "colab_type": "code",
        "colab": {}
      },
      "cell_type": "code",
      "source": [
        "from __future__ import print_function\n",
        "\n",
        "import math\n",
        "\n",
        "from IPython.display import display\n",
        "from matplotlib import cm\n",
        "from matplotlib import gridspec\n",
        "from matplotlib import pyplot as plt\n",
        "import numpy as np\n",
        "import pandas as pd\n",
        "from sklearn import metrics\n",
        "import tensorflow as tf\n",
        "from tensorflow.python.data import Dataset\n",
        "\n",
        "tf.logging.set_verbosity(tf.logging.ERROR)\n",
        "pd.options.display.max_rows = 10\n",
        "pd.options.display.float_format = '{:.1f}'.format"
      ],
      "execution_count": 0,
      "outputs": []
    },
    {
      "metadata": {
        "id": "lGXeIOZF8ReE",
        "colab_type": "text"
      },
      "cell_type": "markdown",
      "source": [
        "Load Data and shuffle/randomize"
      ]
    },
    {
      "metadata": {
        "id": "Db6Ifv5F69xC",
        "colab_type": "code",
        "colab": {}
      },
      "cell_type": "code",
      "source": [
        "dataset = pd.read_csv(\"https://dl.google.com/mlcc/mledu-datasets/california_housing_train.csv\", sep=\",\")\n",
        "\n",
        "dataset = dataset.reindex(np.random.permutation(dataset.index))"
      ],
      "execution_count": 0,
      "outputs": []
    },
    {
      "metadata": {
        "id": "lTB73MNeIYHf",
        "colab_type": "text"
      },
      "cell_type": "markdown",
      "source": [
        "Instead of using `median_house_value` as target, we create a new binary target, median_house_value_is_high`."
      ]
    },
    {
      "metadata": {
        "id": "kPSqspaqIYHg",
        "colab_type": "code",
        "colab": {}
      },
      "cell_type": "code",
      "source": [
        "def preprocess_x(dataset):\n",
        "  selected_features = dataset[\n",
        "    [\"latitude\",\n",
        "     \"longitude\",\n",
        "     \"housing_median_age\",\n",
        "     \"total_rooms\",\n",
        "     \"total_bedrooms\",\n",
        "     \"population\",\n",
        "     \"households\",\n",
        "     \"median_income\"]]\n",
        "  x = selected_features.copy()\n",
        "  # Create a synthetic feature.\n",
        "  x[\"rooms_per_person\"] = (dataset[\"total_rooms\"] / dataset[\"population\"])\n",
        "  return x\n",
        "\n",
        "def preprocess_y(dataset):\n",
        "  y = pd.DataFrame()\n",
        "  # Create a boolean categorical feature representing whether the median_house_value is above a set threshold.\n",
        "  y[\"median_house_value_is_high\"] = ( dataset[\"median_house_value\"] > 265000).astype(float)\n",
        "  return y[\"median_house_value_is_high\"]"
      ],
      "execution_count": 0,
      "outputs": []
    },
    {
      "metadata": {
        "id": "FwOYWmXqWA6D",
        "colab_type": "code",
        "colab": {}
      },
      "cell_type": "code",
      "source": [
        "# Choose the first 12000 (out of 17000) examples for training.\n",
        "x_train = preprocess_x(dataset.head(12000))\n",
        "y_train = preprocess_y(dataset.head(12000))\n",
        "\n",
        "# Choose the last 5000 (out of 17000) examples for validation.\n",
        "x_valid = preprocess_x(dataset.tail(5000))\n",
        "y_valid = preprocess_y(dataset.tail(5000))"
      ],
      "execution_count": 0,
      "outputs": []
    },
    {
      "metadata": {
        "id": "kL4MsbnL9Ko-",
        "colab_type": "text"
      },
      "cell_type": "markdown",
      "source": [
        "Double Check all train and validation data"
      ]
    },
    {
      "metadata": {
        "id": "eo7CvuQw9Jrg",
        "colab_type": "code",
        "colab": {}
      },
      "cell_type": "code",
      "source": [
        "print(\"x Train:\")\n",
        "display(x_train.describe())\n",
        "display(x_train.head())\n",
        "\n",
        "print(\"x Valid\")\n",
        "display(x_valid.describe())\n",
        "display(x_valid.head())\n",
        "\n",
        "\n",
        "print(\"y Train:\")\n",
        "display(y_train.describe())\n",
        "display(y_train.head())\n",
        "\n",
        "print(\"y valid:\")\n",
        "display(y_valid.describe())\n",
        "display(y_valid.head())"
      ],
      "execution_count": 0,
      "outputs": []
    },
    {
      "metadata": {
        "id": "uon1LB3A31VN",
        "colab_type": "text"
      },
      "cell_type": "markdown",
      "source": [
        "## Step 1: Define Training Fn and other helper Functions"
      ]
    },
    {
      "metadata": {
        "id": "smmUYRDtWOV_",
        "colab_type": "code",
        "colab": {}
      },
      "cell_type": "code",
      "source": [
        "def construct_feature_columns(features):\n",
        "  return set([tf.feature_column.numeric_column(feature) for feature in features])"
      ],
      "execution_count": 0,
      "outputs": []
    },
    {
      "metadata": {
        "id": "B5OwSrr1yIKD",
        "colab_type": "code",
        "colab": {}
      },
      "cell_type": "code",
      "source": [
        "def make_batches(x, y, batch_size=1, shuffle=True, num_epochs=None):\n",
        "    # Convert pandas data into a dict of np arrays.\n",
        "    x = {key:np.array(value) for key,value in dict(x).items()}                                            \n",
        " \n",
        "    # Construct a dataset, and configure batching/repeating.\n",
        "    ds = Dataset.from_tensor_slices((x,y)) # warning: 2GB limit\n",
        "    ds = ds.batch(batch_size).repeat(num_epochs)\n",
        "    \n",
        "    # Shuffle the data, if specified.\n",
        "    if shuffle:\n",
        "      ds = ds.shuffle(10000)\n",
        "    \n",
        "    # Return the next batch of data.\n",
        "    x, y = ds.make_one_shot_iterator().get_next()\n",
        "    return x, y"
      ],
      "execution_count": 0,
      "outputs": []
    },
    {
      "metadata": {
        "id": "SE2-hq8PIYHz",
        "colab_type": "code",
        "colab": {}
      },
      "cell_type": "code",
      "source": [
        "def train_model(learning_rate,steps,batch_size,x_train,y_train,x_valid,y_valid):\n",
        "  periods = 10\n",
        "  steps_per_period = steps / periods\n",
        "\n",
        "  # Create a linear regressor object.\n",
        "  my_optimizer = tf.train.GradientDescentOptimizer(learning_rate=learning_rate)\n",
        "  my_optimizer = tf.contrib.estimator.clip_gradients_by_norm(my_optimizer, 5.0)\n",
        "  model = tf.estimator.LinearClassifier(\n",
        "      feature_columns=construct_feature_columns(x_train),\n",
        "      optimizer=my_optimizer\n",
        "  )\n",
        "    \n",
        "  # Create input functions.\n",
        "  batches_train = lambda: make_batches(x_train,y_train, batch_size=batch_size)\n",
        "  single_batch_train = lambda: make_batches(x_train, y_train,num_epochs=1,shuffle=False)\n",
        "  single_batch_valid = lambda: make_batches(x_valid,y_valid,num_epochs=1,shuffle=False)\n",
        "\n",
        "  # Train the model, but do so inside a loop so that we can periodically assess\n",
        "  # loss metrics.\n",
        "  print(\"Model Training Started...\")\n",
        "  print(\"Loss (on training data):\")\n",
        "  \n",
        "  # Loss is a general term, i.e rmse or log loss etc.\n",
        "  loss_train_list = []\n",
        "  loss_valid_list = []\n",
        "  for period in range (0, periods):\n",
        "    # Train the model, starting from the prior state.\n",
        "    model.train(input_fn=batches_train,  steps=steps_per_period)\n",
        "    \n",
        "    # Take a break and compute predictions.\n",
        "    # Prediction can be probability in Linear Classifier\n",
        "    y_train_p = model.predict(input_fn=single_batch_train)\n",
        "    y_train_p = np.array([item['probabilities'][0] for item in y_train_p])\n",
        "    \n",
        "    y_valid_p = model.predict(input_fn=single_batch_valid)\n",
        "    y_valid_p = np.array([item['probabilities'][0] for item in y_valid_p])\n",
        "    \n",
        "    # Compute training and validation loss.\n",
        "    # rmse_train = math.sqrt( metrics.mean_squared_error(y_train_p, y_train))\n",
        "    loss_train = metrics.log_loss(y_train, y_train_p)\n",
        "    # rmse_valid = math.sqrt( metrics.mean_squared_error(y_valid_p, y_valid))\n",
        "    loss_valid = metrics.log_loss(y_valid, y_valid_p)\n",
        "    # Occasionally print the current loss.\n",
        "    print(\"  period %02d : %0.2f\" % (period, loss_train))\n",
        "    # Add the loss metrics from this period to our list.\n",
        "    loss_train_list.append(loss_train)\n",
        "    loss_valid_list.append(loss_valid)\n",
        "  print(\"Model training finished.\")\n",
        "  \n",
        "  # Output a graph of loss metrics over periods.\n",
        "  plt.ylabel(\"Loss\")\n",
        "  plt.xlabel(\"Period\")\n",
        "  plt.title(\"Loss (Log Loss) vs. Periods\")\n",
        "  plt.tight_layout()\n",
        "  plt.plot(loss_train_list, label=\"training\")\n",
        "  plt.plot(loss_valid_list, label=\"validation\")\n",
        "  plt.legend()\n",
        "\n",
        "  return model"
      ],
      "execution_count": 0,
      "outputs": []
    },
    {
      "metadata": {
        "id": "XQaBezvKEbMY",
        "colab_type": "text"
      },
      "cell_type": "markdown",
      "source": [
        "## Step 2: Run Training"
      ]
    },
    {
      "metadata": {
        "id": "TDBD8xeeIYH2",
        "colab_type": "code",
        "colab": {
          "base_uri": "https://localhost:8080/",
          "height": 635
        },
        "outputId": "43442e6b-7328-490e-a913-dafb008b963f"
      },
      "cell_type": "code",
      "source": [
        "model = train_model( learning_rate=0.000001, steps=200, batch_size=20, x_train = x_train, y_train = y_train, x_valid = x_valid, y_valid = y_valid )"
      ],
      "execution_count": 59,
      "outputs": [
        {
          "output_type": "stream",
          "text": [
            "Model Training Started...\n",
            "Loss (on training data):\n",
            "  period 00 : 0.78\n",
            "  period 01 : 0.82\n",
            "  period 02 : 0.82\n",
            "  period 03 : 0.89\n",
            "  period 04 : 0.97\n",
            "  period 05 : 0.99\n",
            "  period 06 : 1.00\n",
            "  period 07 : 1.02\n",
            "  period 08 : 1.00\n",
            "  period 09 : 1.08\n",
            "Model training finished.\n"
          ],
          "name": "stdout"
        },
        {
          "output_type": "display_data",
          "data": {
            "image/png": "[encoded data removed]",
            "text/plain": [
              "<matplotlib.figure.Figure at 0x7f73ba313810>"
            ]
          },
          "metadata": {
            "tags": []
          }
        }
      ]
    },
    {
      "metadata": {
        "id": "i-Xo83_aR6s_",
        "colab_type": "text"
      },
      "cell_type": "markdown",
      "source": [
        "## Task: Calculate Accuracy and plot a ROC Curve for the Validation Set"
      ]
    },
    {
      "metadata": {
        "id": "lPb2GpGuHZAc",
        "colab_type": "text"
      },
      "cell_type": "markdown",
      "source": [
        "Useful metrics for classification:\n",
        "* [accuracy](https://en.wikipedia.org/wiki/Accuracy_and_precision#In_binary_classification), \n",
        "* [ROC curve](https://en.wikipedia.org/wiki/Receiver_operating_characteristic) \n",
        "* Area under the ROC curve (AUC)\n",
        "\n",
        "`LinearClassifier.evaluate` calculates useful metrics like accuracy and AUC."
      ]
    },
    {
      "metadata": {
        "id": "47xGS2uNIYIE",
        "colab_type": "text"
      },
      "cell_type": "markdown",
      "source": [
        "`LinearClassifier.predict`,  and Sklearn's [roc_curve](http://scikit-learn.org/stable/modules/model_evaluation.html#roc-metrics) to\n",
        "obtain the true positive and false positive rates needed to plot a ROC curve."
      ]
    },
    {
      "metadata": {
        "id": "AGqdGe-VH3oV",
        "colab_type": "code",
        "colab": {}
      },
      "cell_type": "code",
      "source": [
        "def cal_metrics(model):\n",
        "  single_batch_valid = lambda: make_batches(x_valid,y_valid,num_epochs=1,shuffle=False)\n",
        "    \n",
        "  y_valid_p = model.predict(input_fn=single_batch_valid)\n",
        "  # Get just the probabilities for the positive class.\n",
        "  y_valid_p = np.array([item['probabilities'][1] for item in y_valid_p])\n",
        "  \n",
        "  print(\"ROC Curve\")\n",
        "  false_positive_rate, true_positive_rate, thresholds = metrics.roc_curve(y_valid, y_valid_p)\n",
        "  plt.plot(false_positive_rate, true_positive_rate, label=\"our model\")\n",
        "  plt.plot([0, 1], [0, 1], label=\"random classifier\")\n",
        "  plt.ylabel(\"TPR\")\n",
        "  plt.xlabel(\"FPR\")\n",
        "  _ = plt.legend(loc=2)\n",
        "        \n",
        "  evaluation_metrics = model.evaluate(input_fn=single_batch_valid)\n",
        "\n",
        "  print(\"AUC on the validation set: %0.2f\" % evaluation_metrics['auc'])\n",
        "  print(\"Accuracy on the validation set: %0.2f\" % evaluation_metrics['accuracy'])\n",
        "  "
      ],
      "execution_count": 0,
      "outputs": []
    },
    {
      "metadata": {
        "id": "xaU7ttj8IYIF",
        "colab_type": "code",
        "colab": {
          "base_uri": "https://localhost:8080/",
          "height": 415
        },
        "outputId": "ffc82b97-6aa4-4ee3-e844-4613980a75d9"
      },
      "cell_type": "code",
      "source": [
        "cal_metrics(model)"
      ],
      "execution_count": 61,
      "outputs": [
        {
          "output_type": "stream",
          "text": [
            "ROC Curve\n",
            "AUC on the validation set: 0.48\n",
            "Accuracy on the validation set: 0.74\n"
          ],
          "name": "stdout"
        },
        {
          "output_type": "display_data",
          "data": {
            "image/png": "[encoded data removed]",
            "text/plain": [
              "<matplotlib.figure.Figure at 0x7f73be0760d0>"
            ]
          },
          "metadata": {
            "tags": []
          }
        }
      ]
    },
    {
      "metadata": {
        "id": "PIdhwfgzIYII",
        "colab_type": "text"
      },
      "cell_type": "markdown",
      "source": [
        "**See if you can tune the learning settings of the model trained at Task 2 to improve AUC.**\n",
        "\n",
        "Often times, certain metrics improve at the detriment of others, and you'll need to find the settings that achieve a good compromise.\n",
        "\n",
        "**Verify if all metrics improve at the same time.**"
      ]
    },
    {
      "metadata": {
        "id": "VHosS1g2aetf",
        "colab_type": "text"
      },
      "cell_type": "markdown",
      "source": [
        "One possible solution that works is to just train for longer, as long as we don't overfit. \n",
        "\n",
        "We can do this by increasing the number the steps, the batch size, or both.\n",
        "\n",
        "All metrics improve at the same time, so our loss metric is a good proxy\n",
        "for both AUC and accuracy.\n",
        "\n",
        "Notice how it takes many, many more iterations just to squeeze a few more \n",
        "units of AUC. This commonly happens. But often even this small gain is worth \n",
        "the costs."
      ]
    },
    {
      "metadata": {
        "id": "dWgTEYMddaA-",
        "colab_type": "code",
        "colab": {
          "base_uri": "https://localhost:8080/",
          "height": 635
        },
        "outputId": "e47b98c9-0293-4954-bcf9-3d2ded49afef"
      },
      "cell_type": "code",
      "source": [
        "new_model = train_model( learning_rate=0.000003, steps=20000, batch_size=500, x_train = x_train, y_train = y_train, x_valid = x_valid, y_valid = y_valid )"
      ],
      "execution_count": 63,
      "outputs": [
        {
          "output_type": "stream",
          "text": [
            "Model Training Started...\n",
            "Loss (on training data):\n",
            "  period 00 : nan\n",
            "  period 01 : nan\n",
            "  period 02 : nan\n",
            "  period 03 : nan\n",
            "  period 04 : nan\n",
            "  period 05 : nan\n",
            "  period 06 : nan\n",
            "  period 07 : nan\n",
            "  period 08 : nan\n",
            "  period 09 : nan\n",
            "Model training finished.\n"
          ],
          "name": "stdout"
        },
        {
          "output_type": "display_data",
          "data": {
            "image/png": "[encoded data removed]",
            "text/plain": [
              "<matplotlib.figure.Figure at 0x7f73be3fff10>"
            ]
          },
          "metadata": {
            "tags": []
          }
        }
      ]
    },
    {
      "metadata": {
        "id": "U-pF-gePGY6O",
        "colab_type": "code",
        "colab": {
          "base_uri": "https://localhost:8080/",
          "height": 415
        },
        "outputId": "c7af0c6c-489c-401e-93bc-982dceb6c1f5"
      },
      "cell_type": "code",
      "source": [
        "cal_metrics(new_model)"
      ],
      "execution_count": 65,
      "outputs": [
        {
          "output_type": "stream",
          "text": [
            "ROC Curve\n",
            "AUC on the validation set: 0.81\n",
            "Accuracy on the validation set: 0.79\n"
          ],
          "name": "stdout"
        },
        {
          "output_type": "display_data",
          "data": {
            "image/png": "[encoded data removed]",
            "text/plain": [
              "<matplotlib.figure.Figure at 0x7f73bab53390>"
            ]
          },
          "metadata": {
            "tags": []
          }
        }
      ]
    }
  ]
}